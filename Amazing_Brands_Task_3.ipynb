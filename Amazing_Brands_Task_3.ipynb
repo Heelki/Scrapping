{
 "cells": [
  {
   "cell_type": "code",
   "execution_count": 1,
   "metadata": {},
   "outputs": [],
   "source": [
    "################################################################################################\n",
    "# Task 3:\n",
    "# Extend either your scraper from Task 1 or scrapy spider from Task 2 such that the following information is written to a \n",
    "# database right after a title has been scraped: \n",
    "# ASIN\n",
    "# title\n",
    "# timestamp of when the title was scraped from the web\n",
    "################################################################################################"
   ]
  },
  {
   "cell_type": "code",
   "execution_count": 2,
   "metadata": {},
   "outputs": [],
   "source": [
    "################################################################################################\n",
    "# Author's note:\n",
    "#     You will need to specify some information about your OS and browser as a string as the variable user_agent\n",
    "#     You will need the product's ASIN as a string in the variable ASIN\n",
    "################################################################################################"
   ]
  },
  {
   "cell_type": "code",
   "execution_count": 3,
   "metadata": {},
   "outputs": [],
   "source": [
    "#Importing libraries that I would need for the task:\n",
    "import urllib.request as uReq\n",
    "from bs4 import BeautifulSoup as soup\n",
    "from datetime import datetime\n",
    "import sqlite3 as sql"
   ]
  },
  {
   "cell_type": "code",
   "execution_count": 4,
   "metadata": {},
   "outputs": [],
   "source": [
    "#Provide the ASIN of the wanted product \n",
    "ASIN = 'B0041G8ZNI'\n",
    "url = 'https://www.amazon.de/dp/' + ASIN\n",
    "\n",
    "#Provide info about usr's browser and OS\n",
    "user_agent = 'Mozilla/5.0 (Windows NT 10.0; Win64; x64) AppleWebKit/537.36 (KHTML, like Gecko)Chrome/88.0.4324.150 Safari/537.36'\n",
    "\n",
    "#Open connection to the page\n",
    "client_request = uReq.Request(url, headers = {'USER-AGENT':user_agent})\n",
    "client = uReq.urlopen(client_request)\n",
    "\n",
    "#Download html text of the page\n",
    "page_html = client.read()\n",
    "\n",
    "#Time at which the html file was downloaded and read:\n",
    "time = str(datetime.today())\n",
    "\n",
    "#Close connection of the page\n",
    "client.close()\n",
    "\n",
    "#Html parsing\n",
    "page_soup = soup(page_html, 'html.parser')\n",
    "\n",
    "#Grabs title of product\n",
    "productTitle = page_soup.find('span', {'id':'productTitle'}).text.strip('\\n')"
   ]
  },
  {
   "cell_type": "code",
   "execution_count": 5,
   "metadata": {},
   "outputs": [],
   "source": [
    "#Saving info to a SQLite database:\n",
    "\n",
    "#Creat a connection to base\n",
    "conn = sql.connect('product_name.db')\n",
    "\n",
    "#Creat a cursor\n",
    "cursor = conn.cursor()\n",
    "\n",
    "#Creat a table that holds ASIN, title, timestamp\n",
    "cursor.execute(\"\"\"CREATE TABLE product_name (\n",
    "                  ASIN text,\n",
    "                  Title text,\n",
    "                  Time text\n",
    "                  )\"\"\")\n",
    "\n",
    "#Insert data into the table\n",
    "cursor.execute(\"INSERT INTO product_name VALUES (:ASIN, :Title, :Time)\", {'ASIN' : ASIN, 'Title': productTitle, 'Time' : time})\n",
    "\n",
    "#Commit the change\n",
    "conn.commit()\n",
    "\n",
    "#Close the connection\n",
    "conn.close()"
   ]
  }
 ],
 "metadata": {
  "kernelspec": {
   "display_name": "Python 3",
   "language": "python",
   "name": "python3"
  },
  "language_info": {
   "codemirror_mode": {
    "name": "ipython",
    "version": 3
   },
   "file_extension": ".py",
   "mimetype": "text/x-python",
   "name": "python",
   "nbconvert_exporter": "python",
   "pygments_lexer": "ipython3",
   "version": "3.6.6"
  }
 },
 "nbformat": 4,
 "nbformat_minor": 2
}
