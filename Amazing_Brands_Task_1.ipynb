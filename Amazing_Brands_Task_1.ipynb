{
 "cells": [
  {
   "cell_type": "code",
   "execution_count": 1,
   "metadata": {},
   "outputs": [],
   "source": [
    "################################################################################################\n",
    "# Task 1:\n",
    "# Please build a simple scraper in Python using the libraries requests and BeautifulSoup. \n",
    "# The scraper should be able to fetch the product title for a given ASIN from the product detail page. \n",
    "# It would be enough if the ASIN can be specified as a variable in the Python script (or Jupyter notebook, whichever you prefer) \n",
    "# and the title is then printed out in the console (or as the cell output in the notebook).\n",
    "# Some tips and notes:\n",
    "# Each product (or product variant, to be more precise) has its own ASIN and a corresponding product detail page. \n",
    "# Each product detail page always has the same kind of URL: www.amazon.de/dp/{ASIN}, e.g. www.amazon.de/dp/B0041G8ZNI.\n",
    "# In the browser, you can look at a page’s source code which you can use to locate elements on the web page \n",
    "# (like, in this case, the title element).\n",
    "# It is very much possible that Amazon doesn’t want you to scrape product detail pages. \n",
    "# In this case, you should look at the concept of “headers” which are extra information you send with your request \n",
    "# that tells the server something about the user, like what OS or browser version you are using \n",
    "# (this particular kind of information is called the “user string”). The server can use this information to predict if you’re a \n",
    "# bot. It is quite easy to add a header to your request in the Python requests library. \n",
    "################################################################################################"
   ]
  },
  {
   "cell_type": "code",
   "execution_count": null,
   "metadata": {},
   "outputs": [],
   "source": [
    "################################################################################################\n",
    "# Author's note:\n",
    "#     You will need to specify some information about your OS and browser as a string as the variable user_agent\n",
    "#     You will need the product's ASIN as a string in the variable ASIN\n",
    "################################################################################################"
   ]
  },
  {
   "cell_type": "code",
   "execution_count": 2,
   "metadata": {},
   "outputs": [],
   "source": [
    "#Importing libraries that I would need for the task:\n",
    "import urllib.request as uReq\n",
    "from bs4 import BeautifulSoup as soup"
   ]
  },
  {
   "cell_type": "code",
   "execution_count": 3,
   "metadata": {},
   "outputs": [
    {
     "name": "stdout",
     "output_type": "stream",
     "text": [
      "Tondeo Spots Offset Micro 5.5 Haarschere Einsteigermodell Exakter Schnitt ohne Vorschub Einstellbare Basic-Schraube\n"
     ]
    }
   ],
   "source": [
    "#Provide the ASIN of the wanted product \n",
    "ASIN = 'B0041G8ZNI'\n",
    "url = 'https://www.amazon.de/dp/' + ASIN\n",
    "\n",
    "#Provide info about usr's browser and OS\n",
    "user_agent = 'Mozilla/5.0 (Windows NT 10.0; Win64; x64) AppleWebKit/537.36 (KHTML, like Gecko)Chrome/88.0.4324.150 Safari/537.36'\n",
    "\n",
    "#Open connection to the page\n",
    "client_request = uReq.Request(url, headers = {'USER-AGENT':user_agent})\n",
    "client = uReq.urlopen(client_request)\n",
    "\n",
    "#Download html text of the page\n",
    "page_html = client.read()\n",
    "\n",
    "#Close connection of the page\n",
    "client.close()\n",
    "\n",
    "#Html parsing\n",
    "page_soup = soup(page_html, 'html.parser')\n",
    "\n",
    "#Grabs title of product\n",
    "productTitle = page_soup.find('span', {'id':'productTitle'}).text.strip('\\n')\n",
    "\n",
    "#Print product title\n",
    "print(productTitle)"
   ]
  }
 ],
 "metadata": {
  "kernelspec": {
   "display_name": "Python 3",
   "language": "python",
   "name": "python3"
  },
  "language_info": {
   "codemirror_mode": {
    "name": "ipython",
    "version": 3
   },
   "file_extension": ".py",
   "mimetype": "text/x-python",
   "name": "python",
   "nbconvert_exporter": "python",
   "pygments_lexer": "ipython3",
   "version": "3.6.6"
  }
 },
 "nbformat": 4,
 "nbformat_minor": 2
}
