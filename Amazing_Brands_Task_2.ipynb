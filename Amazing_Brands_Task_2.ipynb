{
 "cells": [
  {
   "cell_type": "code",
   "execution_count": 1,
   "metadata": {},
   "outputs": [],
   "source": [
    "################################################################################################\n",
    "# Task 2:\n",
    "# Please build a scrapy spider that does the exact same thing as the scraper from Task 1. \n",
    "# You can use most of the code from Task 1 for this. (You could even use BeautifulSoup for parsing instead of scrapy’s own \n",
    "# parsing methods, if you prefer, and just use scrapy for fetching the source code.)\n",
    "# Some tips and notes:\n",
    "# Instead of just a single script, with scrapy you create a scrapy project which contains other files as well \n",
    "# (including so called item pipelines and middleware) including a folder containing the spider scripts. Here, you can \n",
    "# create your spider. All these files are automatically created when you run the “startproject” command (see scrapy commands).\n",
    "# You can run a particular spider using a special scrapy command called “crawl” (see scrapy commands).\n",
    "# Scrapy also allows you to add headers to your requests. \n",
    "################################################################################################"
   ]
  },
  {
   "cell_type": "code",
   "execution_count": 2,
   "metadata": {},
   "outputs": [],
   "source": [
    "################################################################################################\n",
    "# Author's note:\n",
    "#     You will need to specify some information about your OS and browser as a string as the variable user_agent\n",
    "#     You will need the product's ASIN as a string in the variable ASIN\n",
    "################################################################################################"
   ]
  },
  {
   "cell_type": "code",
   "execution_count": 3,
   "metadata": {},
   "outputs": [],
   "source": [
    "#Importing libraries that I would need for the task:\n",
    "import scrapy\n",
    "from scrapy.crawler import CrawlerProcess\n",
    "import codecs\n",
    "from bs4 import BeautifulSoup as soup"
   ]
  },
  {
   "cell_type": "code",
   "execution_count": 4,
   "metadata": {},
   "outputs": [],
   "source": [
    "#Define the spider class\n",
    "class AmazonSpider(scrapy.Spider):\n",
    "    #name of the spider\n",
    "    name = 'AmazonSpider'\n",
    "    #usr data \n",
    "    user_agent = 'Mozilla/5.0 (Windows NT 10.0; Win64; x64) AppleWebKit/537.36 (KHTML, like Gecko)Chrome/88.0.4324.150 Safari/537.36'\n",
    "    #ASIN of required product\n",
    "    ASIN = 'B0041G8ZNI'\n",
    "    start_urls = ['https://www.amazon.de/dp/' + ASIN]\n",
    "    #Parsing method    \n",
    "    def parse(self, response):\n",
    "        filename = 'page.html'\n",
    "        with open(filename, 'wb') as f:\n",
    "            f.write(response.body)\n",
    "        self.log(f'Saved file {filename}')"
   ]
  },
  {
   "cell_type": "code",
   "execution_count": 5,
   "metadata": {
    "scrolled": true
   },
   "outputs": [
    {
     "name": "stderr",
     "output_type": "stream",
     "text": [
      "2021-02-17 16:59:31 [scrapy.utils.log] INFO: Scrapy 2.4.1 started (bot: scrapybot)\n",
      "2021-02-17 16:59:31 [scrapy.utils.log] INFO: Versions: lxml 4.2.5.0, libxml2 2.9.8, cssselect 1.1.0, parsel 1.6.0, w3lib 1.22.0, Twisted 18.7.0, Python 3.6.6 |Anaconda, Inc.| (default, Jun 28 2018, 11:21:07) [MSC v.1900 32 bit (Intel)], pyOpenSSL 18.0.0 (OpenSSL 1.0.2p  14 Aug 2018), cryptography 2.3.1, Platform Windows-10-10.0.18362-SP0\n",
      "2021-02-17 16:59:31 [scrapy.utils.log] DEBUG: Using reactor: twisted.internet.selectreactor.SelectReactor\n",
      "2021-02-17 16:59:31 [scrapy.crawler] INFO: Overridden settings:\n",
      "{}\n",
      "2021-02-17 16:59:31 [scrapy.extensions.telnet] INFO: Telnet Password: 28d5c3c2ed0197f3\n",
      "2021-02-17 16:59:32 [scrapy.middleware] INFO: Enabled extensions:\n",
      "['scrapy.extensions.corestats.CoreStats',\n",
      " 'scrapy.extensions.telnet.TelnetConsole',\n",
      " 'scrapy.extensions.logstats.LogStats']\n",
      "2021-02-17 16:59:32 [scrapy.middleware] INFO: Enabled downloader middlewares:\n",
      "['scrapy.downloadermiddlewares.httpauth.HttpAuthMiddleware',\n",
      " 'scrapy.downloadermiddlewares.downloadtimeout.DownloadTimeoutMiddleware',\n",
      " 'scrapy.downloadermiddlewares.defaultheaders.DefaultHeadersMiddleware',\n",
      " 'scrapy.downloadermiddlewares.useragent.UserAgentMiddleware',\n",
      " 'scrapy.downloadermiddlewares.retry.RetryMiddleware',\n",
      " 'scrapy.downloadermiddlewares.redirect.MetaRefreshMiddleware',\n",
      " 'scrapy.downloadermiddlewares.httpcompression.HttpCompressionMiddleware',\n",
      " 'scrapy.downloadermiddlewares.redirect.RedirectMiddleware',\n",
      " 'scrapy.downloadermiddlewares.cookies.CookiesMiddleware',\n",
      " 'scrapy.downloadermiddlewares.httpproxy.HttpProxyMiddleware',\n",
      " 'scrapy.downloadermiddlewares.stats.DownloaderStats']\n",
      "2021-02-17 16:59:32 [scrapy.middleware] INFO: Enabled spider middlewares:\n",
      "['scrapy.spidermiddlewares.httperror.HttpErrorMiddleware',\n",
      " 'scrapy.spidermiddlewares.offsite.OffsiteMiddleware',\n",
      " 'scrapy.spidermiddlewares.referer.RefererMiddleware',\n",
      " 'scrapy.spidermiddlewares.urllength.UrlLengthMiddleware',\n",
      " 'scrapy.spidermiddlewares.depth.DepthMiddleware']\n",
      "2021-02-17 16:59:32 [scrapy.middleware] INFO: Enabled item pipelines:\n",
      "[]\n",
      "2021-02-17 16:59:32 [scrapy.core.engine] INFO: Spider opened\n",
      "2021-02-17 16:59:32 [scrapy.extensions.logstats] INFO: Crawled 0 pages (at 0 pages/min), scraped 0 items (at 0 items/min)\n",
      "2021-02-17 16:59:32 [scrapy.extensions.telnet] INFO: Telnet console listening on 127.0.0.1:6023\n",
      "2021-02-17 16:59:34 [scrapy.core.engine] DEBUG: Crawled (200) <GET https://www.amazon.de/dp/B0041G8ZNI> (referer: None)\n",
      "2021-02-17 16:59:34 [AmazonSpider] DEBUG: Saved file page.html\n",
      "2021-02-17 16:59:34 [scrapy.core.engine] INFO: Closing spider (finished)\n",
      "2021-02-17 16:59:34 [scrapy.statscollectors] INFO: Dumping Scrapy stats:\n",
      "{'downloader/request_bytes': 306,\n",
      " 'downloader/request_count': 1,\n",
      " 'downloader/request_method_count/GET': 1,\n",
      " 'downloader/response_bytes': 277990,\n",
      " 'downloader/response_count': 1,\n",
      " 'downloader/response_status_count/200': 1,\n",
      " 'elapsed_time_seconds': 1.696383,\n",
      " 'finish_reason': 'finished',\n",
      " 'finish_time': datetime.datetime(2021, 2, 17, 15, 59, 34, 252996),\n",
      " 'log_count/DEBUG': 2,\n",
      " 'log_count/INFO': 10,\n",
      " 'response_received_count': 1,\n",
      " 'scheduler/dequeued': 1,\n",
      " 'scheduler/dequeued/memory': 1,\n",
      " 'scheduler/enqueued': 1,\n",
      " 'scheduler/enqueued/memory': 1,\n",
      " 'start_time': datetime.datetime(2021, 2, 17, 15, 59, 32, 556613)}\n",
      "2021-02-17 16:59:34 [scrapy.core.engine] INFO: Spider closed (finished)\n"
     ]
    }
   ],
   "source": [
    "#Run spider, which downloads page html\n",
    "process = CrawlerProcess()\n",
    "process.crawl(AmazonSpider)\n",
    "process.start()"
   ]
  },
  {
   "cell_type": "code",
   "execution_count": 6,
   "metadata": {},
   "outputs": [
    {
     "name": "stdout",
     "output_type": "stream",
     "text": [
      "Tondeo Spots Offset Micro 5.5 Haarschere Einsteigermodell Exakter Schnitt ohne Vorschub Einstellbare Basic-Schraube\n"
     ]
    }
   ],
   "source": [
    "#Open html text of the page\n",
    "page_html = codecs.open('page.html', \"r\", \"utf-8\").read()\n",
    "\n",
    "#Html parsing\n",
    "page_soup = soup(page_html, 'html.parser')\n",
    "\n",
    "#Grabs title of product\n",
    "productTitle = page_soup.find('span', {'id':'productTitle'}).text.strip('\\n')\n",
    "\n",
    "#Print product title\n",
    "print(productTitle)"
   ]
  }
 ],
 "metadata": {
  "kernelspec": {
   "display_name": "Python 3",
   "language": "python",
   "name": "python3"
  },
  "language_info": {
   "codemirror_mode": {
    "name": "ipython",
    "version": 3
   },
   "file_extension": ".py",
   "mimetype": "text/x-python",
   "name": "python",
   "nbconvert_exporter": "python",
   "pygments_lexer": "ipython3",
   "version": "3.6.6"
  }
 },
 "nbformat": 4,
 "nbformat_minor": 2
}
